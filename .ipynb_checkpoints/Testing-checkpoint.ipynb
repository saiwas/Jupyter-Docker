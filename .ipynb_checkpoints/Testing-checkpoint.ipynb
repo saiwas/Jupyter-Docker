{
 "cells": [
  {
   "cell_type": "code",
   "execution_count": 4,
   "id": "c08ea336",
   "metadata": {},
   "outputs": [
    {
     "ename": "ModuleNotFoundError",
     "evalue": "No module named 'pandas'",
     "output_type": "error",
     "traceback": [
      "\u001b[0;31m---------------------------------------------------------------------------\u001b[0m",
      "\u001b[0;31mModuleNotFoundError\u001b[0m                       Traceback (most recent call last)",
      "\u001b[0;32m<ipython-input-4-38d4b0363d82>\u001b[0m in \u001b[0;36m<module>\u001b[0;34m\u001b[0m\n\u001b[0;32m----> 1\u001b[0;31m \u001b[0;32mimport\u001b[0m \u001b[0mpandas\u001b[0m\u001b[0;34m\u001b[0m\u001b[0;34m\u001b[0m\u001b[0m\n\u001b[0m",
      "\u001b[0;31mModuleNotFoundError\u001b[0m: No module named 'pandas'"
     ]
    }
   ],
   "source": [
    "import pandas"
   ]
  },
  {
   "cell_type": "code",
   "execution_count": 2,
   "id": "3efe6701",
   "metadata": {},
   "outputs": [
    {
     "name": "stdout",
     "output_type": "stream",
     "text": [
      "Defaulting to user installation because normal site-packages is not writeable\n",
      "Collecting pandas\n",
      "  Downloading pandas-1.2.4-cp39-cp39-manylinux1_x86_64.whl (9.7 MB)\n",
      "\u001b[K     |████████████████████████████████| 9.7 MB 136 kB/s eta 0:00:01     |████████████                    | 3.6 MB 503 kB/s eta 0:00:13     |████████████▎                   | 3.7 MB 503 kB/s eta 0:00:12     |██████████████████████▉         | 6.9 MB 393 kB/s eta 0:00:08     |████████████████████████▋       | 7.5 MB 175 kB/s eta 0:00:13     |█████████████████████████████▊  | 9.0 MB 256 kB/s eta 0:00:03\n",
      "\u001b[?25hCollecting pytz>=2017.3\n",
      "  Downloading pytz-2021.1-py2.py3-none-any.whl (510 kB)\n",
      "\u001b[K     |████████████████████████████████| 510 kB 155 kB/s eta 0:00:01\n",
      "\u001b[?25hRequirement already satisfied: python-dateutil>=2.7.3 in /usr/local/lib/python3.9/site-packages (from pandas) (2.8.1)\n",
      "Collecting numpy>=1.16.5\n",
      "  Downloading numpy-1.20.3-cp39-cp39-manylinux_2_12_x86_64.manylinux2010_x86_64.whl (15.4 MB)\n",
      "\u001b[K     |████████████████████████████████| 15.4 MB 472 kB/s eta 0:00:01    |███▌                            | 1.7 MB 329 kB/s eta 0:00:42     |████████▋                       | 4.1 MB 209 kB/s eta 0:00:54     |██████████████▎                 | 6.9 MB 232 kB/s eta 0:00:37     |███████████████▉                | 7.6 MB 415 kB/s eta 0:00:19     |███████████████████▎            | 9.3 MB 319 kB/s eta 0:00:20     |███████████████████▊            | 9.4 MB 268 kB/s eta 0:00:23     |██████████████████████▏         | 10.6 MB 336 kB/s eta 0:00:15\n",
      "\u001b[?25hRequirement already satisfied: six>=1.5 in /usr/local/lib/python3.9/site-packages (from python-dateutil>=2.7.3->pandas) (1.16.0)\n",
      "Installing collected packages: pytz, numpy, pandas\n",
      "\u001b[33m  WARNING: The scripts f2py, f2py3 and f2py3.9 are installed in '/home/jupyter/.local/bin' which is not on PATH.\n",
      "  Consider adding this directory to PATH or, if you prefer to suppress this warning, use --no-warn-script-location.\u001b[0m\n",
      "Successfully installed numpy-1.20.3 pandas-1.2.4 pytz-2021.1\n",
      "Note: you may need to restart the kernel to use updated packages.\n"
     ]
    }
   ],
   "source": [
    "pip install pandas"
   ]
  },
  {
   "cell_type": "code",
   "execution_count": 5,
   "id": "d846a1ec",
   "metadata": {},
   "outputs": [
    {
     "ename": "ModuleNotFoundError",
     "evalue": "No module named 'pandas'",
     "output_type": "error",
     "traceback": [
      "\u001b[0;31m---------------------------------------------------------------------------\u001b[0m",
      "\u001b[0;31mModuleNotFoundError\u001b[0m                       Traceback (most recent call last)",
      "\u001b[0;32m<ipython-input-5-38d4b0363d82>\u001b[0m in \u001b[0;36m<module>\u001b[0;34m\u001b[0m\n\u001b[0;32m----> 1\u001b[0;31m \u001b[0;32mimport\u001b[0m \u001b[0mpandas\u001b[0m\u001b[0;34m\u001b[0m\u001b[0;34m\u001b[0m\u001b[0m\n\u001b[0m",
      "\u001b[0;31mModuleNotFoundError\u001b[0m: No module named 'pandas'"
     ]
    }
   ],
   "source": [
    "import pandas\n"
   ]
  },
  {
   "cell_type": "code",
   "execution_count": 6,
   "id": "899ebb96",
   "metadata": {},
   "outputs": [
    {
     "name": "stdout",
     "output_type": "stream",
     "text": [
      "/usr/local/bin:/usr/local/sbin:/usr/local/bin:/usr/sbin:/usr/bin:/sbin:/bin\r\n"
     ]
    }
   ],
   "source": [
    "!echo $PATH"
   ]
  },
  {
   "cell_type": "code",
   "execution_count": 1,
   "id": "e1c62e0d",
   "metadata": {},
   "outputs": [],
   "source": [
    "from bs4 import BeautifulSoup\n",
    "import requests\n",
    "import pandas as pd"
   ]
  },
  {
   "cell_type": "code",
   "execution_count": 2,
   "id": "9dfda1cd",
   "metadata": {},
   "outputs": [
    {
     "name": "stdout",
     "output_type": "stream",
     "text": [
      "<div class=\"col-md-6 col-lg-6 col-xl-3\">\n",
      "<div class=\"card__menu box-placeholder js-restaurant__list_item js-match-height js-map\" data-id=\"46151\" data-index=\"0\" data-lat=\"22.3203935\" data-lng=\"114.1713294\">\n",
      "<div class=\"card__menu-image\">\n",
      "<a aria-label=\"Open 好旺角粥麵專家\" class=\"image-wrapper pl-image\" data-bg=\"https://axwwgrkdco.cloudimg.io/v7/mtp-cf-images.s3-eu-west-1.amazonaws.com/images/max/4f964686-f34a-4e8b-a38a-e9ef1403b905.jpg?width=500&amp;sharp=1\" data-category=\"restaurant.result\" data-country=\"hk\" data-guide=\"Hong_Kong\" data-image-id=\"1191542_003\" data-image-source=\"cloud_image\" data-position-x=\"50\" data-position-y=\"50\" href=\"/hk/zh_HK/hong-kong-region/hong-kong/restaurants\">\n",
      "<noscript><img alt=\"\" height=\"203\" src=\"https://axwwgrkdco.cloudimg.io/v7/mtp-cf-images.s3-eu-west-1.amazonaws.com/images/max/4f964686-f34a-4e8b-a38a-e9ef1403b905.jpg?width=500&amp;sharp=1\" width=\"362\"/></noscript>\n",
      "</a>\n",
      "</div>\n",
      "<div class=\"card__menu-content js-match-height-content\">\n",
      "<div class=\"card__menu-content--rating d-flex pl-text\">\n",
      "<i class=\"fa-michelin\">=</i>\n",
      "<span>\n",
      "                米芝蓮指南 Hong Kong\n",
      "            </span>\n",
      "</div>\n",
      "<h3 class=\"card__menu-content--title last pl-text pl-big\">\n",
      "<a aria-label=\"Open 好旺角粥麵專家\" href=\"/hk/zh_HK/hong-kong-region/hong-kong/restaurant/good-hope-noodle\">\n",
      "                好旺角粥麵專家\n",
      "            </a>\n",
      "</h3>\n",
      "</div>\n",
      "<div class=\"card__menu-footer d-flex js-match-height-footer\">\n",
      "<div class=\"card__menu-footer--location flex-fill pl-text\">\n",
      "<i class=\"icon fal fa-map-marker-alt\"></i>\n",
      "            Hong Kong\n",
      "        </div>\n",
      "<div class=\"card__menu-footer--price pl-text\">\n",
      "            \n",
      "                粥麵\n",
      "            \n",
      "        </div>\n",
      "</div>\n",
      "<a aria-label=\"Open 好旺角粥麵專家\" class=\"link\" href=\"/hk/zh_HK/hong-kong-region/hong-kong/restaurant/good-hope-noodle\"></a>\n",
      "</div>\n",
      "</div>\n"
     ]
    }
   ],
   "source": [
    "domain = \"https://guide.michelin.com\"\n",
    "url = domain + \"/hk/zh_HK/hong-kong-region/hong-kong/restaurants\"\n",
    "html_content = requests.get(url).text\n",
    "soup = BeautifulSoup(html_content, \"lxml\")\n",
    "cards = soup.find_all(\"div\", attrs={\"class\": \"col-md-6 col-lg-6 col-xl-3\"})\n",
    "print(cards[0])"
   ]
  },
  {
   "cell_type": "code",
   "execution_count": null,
   "id": "2e77b5dd",
   "metadata": {},
   "outputs": [],
   "source": [
    "pd"
   ]
  }
 ],
 "metadata": {
  "kernelspec": {
   "display_name": "Python 3",
   "language": "python",
   "name": "python3"
  },
  "language_info": {
   "codemirror_mode": {
    "name": "ipython",
    "version": 3
   },
   "file_extension": ".py",
   "mimetype": "text/x-python",
   "name": "python",
   "nbconvert_exporter": "python",
   "pygments_lexer": "ipython3",
   "version": "3.9.5"
  },
  "widgets": {
   "application/vnd.jupyter.widget-state+json": {
    "state": {},
    "version_major": 2,
    "version_minor": 0
   }
  }
 },
 "nbformat": 4,
 "nbformat_minor": 5
}
